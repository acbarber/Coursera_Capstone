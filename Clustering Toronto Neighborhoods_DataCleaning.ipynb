{
    "nbformat_minor": 1, 
    "cells": [
        {
            "source": "import requests\nfrom bs4 import BeautifulSoup as bs\nimport pandas as pd", 
            "cell_type": "code", 
            "metadata": {}, 
            "outputs": [], 
            "execution_count": 1
        }, 
        {
            "source": "# Scrape wiki page\n\nwebsite_url = requests.get('https://en.wikipedia.org/wiki/List_of_postal_codes_of_Canada:_M').text\nsoup = bs(website_url, 'lxml')", 
            "cell_type": "code", 
            "metadata": {}, 
            "outputs": [], 
            "execution_count": 2
        }, 
        {
            "source": "# Isolate table of interest\n\ncanada_neigh = soup.find('table',{'class':'wikitable sortable'})\nrows = canada_neigh.find_all('tr')", 
            "cell_type": "code", 
            "metadata": {}, 
            "outputs": [], 
            "execution_count": 3
        }, 
        {
            "source": "# Make empty pandas dataframe\ncan_neigh = pd.DataFrame(columns=['Postalcode', 'Borough', 'Neighborhood'], index=range(0,288)) \n\n\n# Populate can_neigh dataframe with wiki table\nrow_marker = 0\nfor row in rows[1:]:\n    column_marker = 0\n    columns = row.find_all('td')\n    for column in columns:\n        can_neigh.iat[row_marker,column_marker] = column.get_text().rstrip()\n        column_marker +=1\n    row_marker +=1\n\n# Drop rows where Borough is \"Not assigned\"\ncan_neigh = can_neigh[can_neigh['Borough'] != \"Not assigned\"]\n\n# Assign value of borough for neighborhoods with value \"Not assigned\"\ni = can_neigh['Neighborhood'].loc[can_neigh.Neighborhood=='Not assigned'].index.values\nfor x in i:\n    can_neigh['Neighborhood'][x] = can_neigh['Borough'][x]\ncan_neigh\n\n# Get rid of duplicate postalcodes and merge neighborhoods\ncan_neigh=can_neigh.groupby(by=['Postalcode','Borough'])['Neighborhood'].agg(lambda col: ','.join(col))\ncan_neigh = pd.DataFrame(can_neigh).reset_index()", 
            "cell_type": "code", 
            "metadata": {}, 
            "outputs": [], 
            "execution_count": 4
        }, 
        {
            "source": "# Find shape of can_neigh dataframe \ncan_neigh.shape", 
            "cell_type": "code", 
            "metadata": {}, 
            "outputs": [
                {
                    "output_type": "execute_result", 
                    "data": {
                        "text/plain": "(103, 3)"
                    }, 
                    "execution_count": 5, 
                    "metadata": {}
                }
            ], 
            "execution_count": 5
        }, 
        {
            "source": "", 
            "cell_type": "code", 
            "metadata": {}, 
            "outputs": [], 
            "execution_count": null
        }
    ], 
    "metadata": {
        "kernelspec": {
            "display_name": "Python 3.6", 
            "name": "python3", 
            "language": "python"
        }, 
        "language_info": {
            "mimetype": "text/x-python", 
            "nbconvert_exporter": "python", 
            "version": "3.6.8", 
            "name": "python", 
            "pygments_lexer": "ipython3", 
            "file_extension": ".py", 
            "codemirror_mode": {
                "version": 3, 
                "name": "ipython"
            }
        }
    }, 
    "nbformat": 4
}